{
 "cells": [
  {
   "cell_type": "markdown",
   "metadata": {},
   "source": [
    "# NAPOMENA\n",
    "**Za trening se koristi \"new_weather.csv\", a za test pri slanju resenja \"new_weather_2010-2011\".**\n",
    "\n",
    "## Konstruisanje kolone vremenskih prilika\n",
    "\n",
    "Radi predikcije popunjenosti hotela, odlucili smo da proverimo postojanje korelacije izmedju vremenskih prilika nekog dana i popunjenosti soba u hotelu.\n",
    "Podaci korisceni ovde skinuti su sa sajta [Visual Crossing](https://www.visualcrossing.com/weather/weather-data-services/Rijeka/us/last15days).\n",
    "\n",
    "Nakon sredjivanja, dobijamo novu kolonu gde je:\n",
    "- Suncan dan = 1\n",
    "- Kisni dan = 0\n",
    "- Sneg = 0.5."
   ]
  },
  {
   "cell_type": "code",
   "execution_count": 7,
   "metadata": {},
   "outputs": [],
   "source": [
    "import matplotlib.pyplot as plt\n",
    "import pandas as pd"
   ]
  },
  {
   "cell_type": "code",
   "execution_count": 8,
   "metadata": {},
   "outputs": [
    {
     "data": {
      "text/html": [
       "<div>\n",
       "<style scoped>\n",
       "    .dataframe tbody tr th:only-of-type {\n",
       "        vertical-align: middle;\n",
       "    }\n",
       "\n",
       "    .dataframe tbody tr th {\n",
       "        vertical-align: top;\n",
       "    }\n",
       "\n",
       "    .dataframe thead th {\n",
       "        text-align: right;\n",
       "    }\n",
       "</style>\n",
       "<table border=\"1\" class=\"dataframe\">\n",
       "  <thead>\n",
       "    <tr style=\"text-align: right;\">\n",
       "      <th></th>\n",
       "      <th>datetime</th>\n",
       "      <th>tempmax</th>\n",
       "      <th>tempmin</th>\n",
       "      <th>temp</th>\n",
       "      <th>feelslikemax</th>\n",
       "      <th>feelslikemin</th>\n",
       "      <th>feelslike</th>\n",
       "      <th>humidity</th>\n",
       "      <th>precip</th>\n",
       "      <th>precipprob</th>\n",
       "      <th>preciptype</th>\n",
       "      <th>cloudcover</th>\n",
       "    </tr>\n",
       "  </thead>\n",
       "  <tbody>\n",
       "    <tr>\n",
       "      <th>0</th>\n",
       "      <td>2008-01-01</td>\n",
       "      <td>43.4</td>\n",
       "      <td>32.0</td>\n",
       "      <td>39.0</td>\n",
       "      <td>40.9</td>\n",
       "      <td>25.0</td>\n",
       "      <td>34.3</td>\n",
       "      <td>49.7</td>\n",
       "      <td>0.020</td>\n",
       "      <td>100</td>\n",
       "      <td>rain,snow</td>\n",
       "      <td>28.5</td>\n",
       "    </tr>\n",
       "    <tr>\n",
       "      <th>1</th>\n",
       "      <td>2008-01-02</td>\n",
       "      <td>42.9</td>\n",
       "      <td>30.9</td>\n",
       "      <td>35.7</td>\n",
       "      <td>40.2</td>\n",
       "      <td>23.0</td>\n",
       "      <td>31.2</td>\n",
       "      <td>57.5</td>\n",
       "      <td>0.008</td>\n",
       "      <td>100</td>\n",
       "      <td>rain,snow</td>\n",
       "      <td>28.4</td>\n",
       "    </tr>\n",
       "    <tr>\n",
       "      <th>2</th>\n",
       "      <td>2008-01-03</td>\n",
       "      <td>39.9</td>\n",
       "      <td>30.7</td>\n",
       "      <td>35.3</td>\n",
       "      <td>39.3</td>\n",
       "      <td>23.2</td>\n",
       "      <td>32.1</td>\n",
       "      <td>58.9</td>\n",
       "      <td>0.000</td>\n",
       "      <td>0</td>\n",
       "      <td>rain,snow</td>\n",
       "      <td>66.5</td>\n",
       "    </tr>\n",
       "    <tr>\n",
       "      <th>3</th>\n",
       "      <td>2008-01-04</td>\n",
       "      <td>51.5</td>\n",
       "      <td>37.9</td>\n",
       "      <td>44.3</td>\n",
       "      <td>51.5</td>\n",
       "      <td>32.4</td>\n",
       "      <td>42.4</td>\n",
       "      <td>57.0</td>\n",
       "      <td>0.000</td>\n",
       "      <td>0</td>\n",
       "      <td>NaN</td>\n",
       "      <td>87.7</td>\n",
       "    </tr>\n",
       "    <tr>\n",
       "      <th>4</th>\n",
       "      <td>2008-01-05</td>\n",
       "      <td>49.4</td>\n",
       "      <td>40.8</td>\n",
       "      <td>46.3</td>\n",
       "      <td>49.4</td>\n",
       "      <td>37.6</td>\n",
       "      <td>45.5</td>\n",
       "      <td>90.9</td>\n",
       "      <td>0.051</td>\n",
       "      <td>100</td>\n",
       "      <td>rain</td>\n",
       "      <td>95.3</td>\n",
       "    </tr>\n",
       "  </tbody>\n",
       "</table>\n",
       "</div>"
      ],
      "text/plain": [
       "     datetime  tempmax  tempmin  temp  feelslikemax  feelslikemin  feelslike  \\\n",
       "0  2008-01-01     43.4     32.0  39.0          40.9          25.0       34.3   \n",
       "1  2008-01-02     42.9     30.9  35.7          40.2          23.0       31.2   \n",
       "2  2008-01-03     39.9     30.7  35.3          39.3          23.2       32.1   \n",
       "3  2008-01-04     51.5     37.9  44.3          51.5          32.4       42.4   \n",
       "4  2008-01-05     49.4     40.8  46.3          49.4          37.6       45.5   \n",
       "\n",
       "   humidity  precip  precipprob preciptype  cloudcover  \n",
       "0      49.7   0.020         100  rain,snow        28.5  \n",
       "1      57.5   0.008         100  rain,snow        28.4  \n",
       "2      58.9   0.000           0  rain,snow        66.5  \n",
       "3      57.0   0.000           0        NaN        87.7  \n",
       "4      90.9   0.051         100       rain        95.3  "
      ]
     },
     "execution_count": 8,
     "metadata": {},
     "output_type": "execute_result"
    }
   ],
   "source": [
    "dataset = pd.read_csv(\"weather.csv\")\n",
    "dataset.head()"
   ]
  },
  {
   "cell_type": "code",
   "execution_count": 9,
   "metadata": {},
   "outputs": [
    {
     "name": "stdout",
     "output_type": "stream",
     "text": [
      "<class 'pandas.core.frame.DataFrame'>\n",
      "RangeIndex: 731 entries, 0 to 730\n",
      "Data columns (total 12 columns):\n",
      " #   Column        Non-Null Count  Dtype  \n",
      "---  ------        --------------  -----  \n",
      " 0   datetime      731 non-null    object \n",
      " 1   tempmax       731 non-null    float64\n",
      " 2   tempmin       731 non-null    float64\n",
      " 3   temp          731 non-null    float64\n",
      " 4   feelslikemax  731 non-null    float64\n",
      " 5   feelslikemin  731 non-null    float64\n",
      " 6   feelslike     731 non-null    float64\n",
      " 7   humidity      731 non-null    float64\n",
      " 8   precip        731 non-null    float64\n",
      " 9   precipprob    731 non-null    int64  \n",
      " 10  preciptype    367 non-null    object \n",
      " 11  cloudcover    731 non-null    float64\n",
      "dtypes: float64(9), int64(1), object(2)\n",
      "memory usage: 68.7+ KB\n"
     ]
    }
   ],
   "source": [
    "dataset.info()"
   ]
  },
  {
   "cell_type": "markdown",
   "metadata": {},
   "source": [
    "Kolona 'perciptype' sadrzi podatak o tome da li je bila kisa, sneg ili sunce. Nju izdvajamo i kreiramo novu kolonu unutar 'new_weather.csv'."
   ]
  },
  {
   "cell_type": "code",
   "execution_count": 10,
   "metadata": {},
   "outputs": [],
   "source": [
    "import csv\n",
    "\n",
    "def transform_preciptype(input_csv, output_csv):\n",
    "    with open(input_csv, mode=\"r\", encoding=\"utf-8\") as infile, open(\n",
    "        output_csv, mode=\"w\", encoding=\"utf-8\", newline=\"\"\n",
    "    ) as outfile:\n",
    "        reader = csv.DictReader(infile)\n",
    "        fieldnames = [\"datetime\", \"transformed_preciptype\"]  # Include datetime in the fieldnames\n",
    "\n",
    "        writer = csv.DictWriter(outfile, fieldnames=fieldnames)\n",
    "        writer.writeheader()\n",
    "\n",
    "        for row in reader:\n",
    "            preciptype = row.get(\"preciptype\", \"\")\n",
    "            if preciptype == \"rain\":\n",
    "                transformed_preciptype = 0\n",
    "            elif preciptype == \"rain,snow\":\n",
    "                transformed_preciptype = 0.5\n",
    "            else:\n",
    "                transformed_preciptype = 1\n",
    "\n",
    "            # Write both datetime and transformed_preciptype to the output dataset\n",
    "            writer.writerow({\n",
    "                \"datetime\": row[\"datetime\"],\n",
    "                \"transformed_preciptype\": transformed_preciptype\n",
    "            })\n",
    "\n",
    "input_csv_path = \"weather.csv\"\n",
    "output_csv_path = \"new_weather.csv\"\n",
    "transform_preciptype(input_csv_path, output_csv_path)\n"
   ]
  },
  {
   "cell_type": "code",
   "execution_count": 11,
   "metadata": {},
   "outputs": [
    {
     "data": {
      "text/html": [
       "<div>\n",
       "<style scoped>\n",
       "    .dataframe tbody tr th:only-of-type {\n",
       "        vertical-align: middle;\n",
       "    }\n",
       "\n",
       "    .dataframe tbody tr th {\n",
       "        vertical-align: top;\n",
       "    }\n",
       "\n",
       "    .dataframe thead th {\n",
       "        text-align: right;\n",
       "    }\n",
       "</style>\n",
       "<table border=\"1\" class=\"dataframe\">\n",
       "  <thead>\n",
       "    <tr style=\"text-align: right;\">\n",
       "      <th></th>\n",
       "      <th>datetime</th>\n",
       "      <th>transformed_preciptype</th>\n",
       "    </tr>\n",
       "  </thead>\n",
       "  <tbody>\n",
       "    <tr>\n",
       "      <th>0</th>\n",
       "      <td>2008-01-01</td>\n",
       "      <td>0.5</td>\n",
       "    </tr>\n",
       "    <tr>\n",
       "      <th>1</th>\n",
       "      <td>2008-01-02</td>\n",
       "      <td>0.5</td>\n",
       "    </tr>\n",
       "    <tr>\n",
       "      <th>2</th>\n",
       "      <td>2008-01-03</td>\n",
       "      <td>0.5</td>\n",
       "    </tr>\n",
       "    <tr>\n",
       "      <th>3</th>\n",
       "      <td>2008-01-04</td>\n",
       "      <td>1.0</td>\n",
       "    </tr>\n",
       "    <tr>\n",
       "      <th>4</th>\n",
       "      <td>2008-01-05</td>\n",
       "      <td>0.0</td>\n",
       "    </tr>\n",
       "  </tbody>\n",
       "</table>\n",
       "</div>"
      ],
      "text/plain": [
       "     datetime  transformed_preciptype\n",
       "0  2008-01-01                     0.5\n",
       "1  2008-01-02                     0.5\n",
       "2  2008-01-03                     0.5\n",
       "3  2008-01-04                     1.0\n",
       "4  2008-01-05                     0.0"
      ]
     },
     "execution_count": 11,
     "metadata": {},
     "output_type": "execute_result"
    }
   ],
   "source": [
    "new_w = pd.read_csv(\"new_weather.csv\")\n",
    "new_w.head()"
   ]
  },
  {
   "cell_type": "code",
   "execution_count": 12,
   "metadata": {},
   "outputs": [
    {
     "name": "stdout",
     "output_type": "stream",
     "text": [
      "<class 'pandas.core.frame.DataFrame'>\n",
      "RangeIndex: 731 entries, 0 to 730\n",
      "Data columns (total 2 columns):\n",
      " #   Column                  Non-Null Count  Dtype  \n",
      "---  ------                  --------------  -----  \n",
      " 0   datetime                731 non-null    object \n",
      " 1   transformed_preciptype  731 non-null    float64\n",
      "dtypes: float64(1), object(1)\n",
      "memory usage: 11.5+ KB\n"
     ]
    }
   ],
   "source": [
    "new_w.info()"
   ]
  },
  {
   "cell_type": "code",
   "execution_count": null,
   "metadata": {},
   "outputs": [],
   "source": []
  }
 ],
 "metadata": {
  "kernelspec": {
   "display_name": "Python 3",
   "language": "python",
   "name": "python3"
  },
  "language_info": {
   "codemirror_mode": {
    "name": "ipython",
    "version": 3
   },
   "file_extension": ".py",
   "mimetype": "text/x-python",
   "name": "python",
   "nbconvert_exporter": "python",
   "pygments_lexer": "ipython3",
   "version": "3.11.0"
  }
 },
 "nbformat": 4,
 "nbformat_minor": 2
}
