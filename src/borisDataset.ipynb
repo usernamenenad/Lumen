{
 "cells": [
  {
   "cell_type": "code",
   "execution_count": 1,
   "metadata": {},
   "outputs": [],
   "source": [
    "import matplotlib.pyplot as plt\n",
    "import pandas as pd"
   ]
  },
  {
   "cell_type": "code",
   "execution_count": 2,
   "metadata": {},
   "outputs": [
    {
     "data": {
      "text/html": [
       "<div>\n",
       "<style scoped>\n",
       "    .dataframe tbody tr th:only-of-type {\n",
       "        vertical-align: middle;\n",
       "    }\n",
       "\n",
       "    .dataframe tbody tr th {\n",
       "        vertical-align: top;\n",
       "    }\n",
       "\n",
       "    .dataframe thead th {\n",
       "        text-align: right;\n",
       "    }\n",
       "</style>\n",
       "<table border=\"1\" class=\"dataframe\">\n",
       "  <thead>\n",
       "    <tr style=\"text-align: right;\">\n",
       "      <th></th>\n",
       "      <th>reservation_id</th>\n",
       "      <th>night_number</th>\n",
       "      <th>stay_date</th>\n",
       "      <th>guest_id</th>\n",
       "      <th>guest_country_id</th>\n",
       "      <th>reservation_status</th>\n",
       "      <th>reservation_date</th>\n",
       "      <th>date_from</th>\n",
       "      <th>date_to</th>\n",
       "      <th>resort_id</th>\n",
       "      <th>...</th>\n",
       "      <th>price</th>\n",
       "      <th>price_tax</th>\n",
       "      <th>total_price_tax</th>\n",
       "      <th>total_price</th>\n",
       "      <th>food_price</th>\n",
       "      <th>food_price_tax</th>\n",
       "      <th>other_price</th>\n",
       "      <th>other_price_tax</th>\n",
       "      <th>room_category_id</th>\n",
       "      <th>sales_channel_id</th>\n",
       "    </tr>\n",
       "  </thead>\n",
       "  <tbody>\n",
       "    <tr>\n",
       "      <th>0</th>\n",
       "      <td>73710</td>\n",
       "      <td>1.0</td>\n",
       "      <td>2007-12-13</td>\n",
       "      <td>22897</td>\n",
       "      <td>HR</td>\n",
       "      <td>Checked-out</td>\n",
       "      <td>2007-11-28</td>\n",
       "      <td>2007-12-13</td>\n",
       "      <td>2007-12-15</td>\n",
       "      <td>1</td>\n",
       "      <td>...</td>\n",
       "      <td>4255.462</td>\n",
       "      <td>425.517</td>\n",
       "      <td>452.089</td>\n",
       "      <td>4564.690</td>\n",
       "      <td>265.428</td>\n",
       "      <td>26.572</td>\n",
       "      <td>43.800</td>\n",
       "      <td>0.000</td>\n",
       "      <td>3</td>\n",
       "      <td>10.0</td>\n",
       "    </tr>\n",
       "    <tr>\n",
       "      <th>1</th>\n",
       "      <td>73710</td>\n",
       "      <td>2.0</td>\n",
       "      <td>2007-12-14</td>\n",
       "      <td>22897</td>\n",
       "      <td>HR</td>\n",
       "      <td>Checked-out</td>\n",
       "      <td>2007-11-28</td>\n",
       "      <td>2007-12-13</td>\n",
       "      <td>2007-12-15</td>\n",
       "      <td>1</td>\n",
       "      <td>...</td>\n",
       "      <td>4243.709</td>\n",
       "      <td>424.349</td>\n",
       "      <td>450.921</td>\n",
       "      <td>4552.937</td>\n",
       "      <td>265.428</td>\n",
       "      <td>26.572</td>\n",
       "      <td>43.800</td>\n",
       "      <td>0.000</td>\n",
       "      <td>3</td>\n",
       "      <td>10.0</td>\n",
       "    </tr>\n",
       "    <tr>\n",
       "      <th>2</th>\n",
       "      <td>74464</td>\n",
       "      <td>1.0</td>\n",
       "      <td>2008-01-01</td>\n",
       "      <td>106278</td>\n",
       "      <td>HR</td>\n",
       "      <td>Checked-out</td>\n",
       "      <td>2007-12-29</td>\n",
       "      <td>2008-01-01</td>\n",
       "      <td>2008-01-02</td>\n",
       "      <td>1</td>\n",
       "      <td>...</td>\n",
       "      <td>4336.857</td>\n",
       "      <td>433.693</td>\n",
       "      <td>3806.147</td>\n",
       "      <td>19764.823</td>\n",
       "      <td>530.929</td>\n",
       "      <td>53.071</td>\n",
       "      <td>14897.037</td>\n",
       "      <td>3319.383</td>\n",
       "      <td>4</td>\n",
       "      <td>4.0</td>\n",
       "    </tr>\n",
       "    <tr>\n",
       "      <th>3</th>\n",
       "      <td>74461</td>\n",
       "      <td>1.0</td>\n",
       "      <td>2008-01-01</td>\n",
       "      <td>38936</td>\n",
       "      <td>GB</td>\n",
       "      <td>Cancelled</td>\n",
       "      <td>2007-12-29</td>\n",
       "      <td>2008-01-01</td>\n",
       "      <td>2008-01-02</td>\n",
       "      <td>1</td>\n",
       "      <td>...</td>\n",
       "      <td>8536.766</td>\n",
       "      <td>853.662</td>\n",
       "      <td>1012.948</td>\n",
       "      <td>10392.280</td>\n",
       "      <td>1592.714</td>\n",
       "      <td>159.286</td>\n",
       "      <td>262.800</td>\n",
       "      <td>0.000</td>\n",
       "      <td>5</td>\n",
       "      <td>3.0</td>\n",
       "    </tr>\n",
       "    <tr>\n",
       "      <th>4</th>\n",
       "      <td>74466</td>\n",
       "      <td>1.0</td>\n",
       "      <td>2008-01-01</td>\n",
       "      <td>106279</td>\n",
       "      <td>HR</td>\n",
       "      <td>Cancelled</td>\n",
       "      <td>2007-12-29</td>\n",
       "      <td>2008-01-01</td>\n",
       "      <td>2008-01-03</td>\n",
       "      <td>1</td>\n",
       "      <td>...</td>\n",
       "      <td>NaN</td>\n",
       "      <td>NaN</td>\n",
       "      <td>NaN</td>\n",
       "      <td>NaN</td>\n",
       "      <td>NaN</td>\n",
       "      <td>NaN</td>\n",
       "      <td>NaN</td>\n",
       "      <td>NaN</td>\n",
       "      <td>6</td>\n",
       "      <td>4.0</td>\n",
       "    </tr>\n",
       "  </tbody>\n",
       "</table>\n",
       "<p>5 rows × 24 columns</p>\n",
       "</div>"
      ],
      "text/plain": [
       "   reservation_id  night_number  stay_date  guest_id guest_country_id  \\\n",
       "0           73710           1.0 2007-12-13     22897               HR   \n",
       "1           73710           2.0 2007-12-14     22897               HR   \n",
       "2           74464           1.0 2008-01-01    106278               HR   \n",
       "3           74461           1.0 2008-01-01     38936               GB   \n",
       "4           74466           1.0 2008-01-01    106279               HR   \n",
       "\n",
       "  reservation_status reservation_date   date_from     date_to  resort_id  ...  \\\n",
       "0        Checked-out       2007-11-28  2007-12-13  2007-12-15          1  ...   \n",
       "1        Checked-out       2007-11-28  2007-12-13  2007-12-15          1  ...   \n",
       "2        Checked-out       2007-12-29  2008-01-01  2008-01-02          1  ...   \n",
       "3          Cancelled       2007-12-29  2008-01-01  2008-01-02          1  ...   \n",
       "4          Cancelled       2007-12-29  2008-01-01  2008-01-03          1  ...   \n",
       "\n",
       "      price  price_tax  total_price_tax  total_price  food_price  \\\n",
       "0  4255.462    425.517          452.089     4564.690     265.428   \n",
       "1  4243.709    424.349          450.921     4552.937     265.428   \n",
       "2  4336.857    433.693         3806.147    19764.823     530.929   \n",
       "3  8536.766    853.662         1012.948    10392.280    1592.714   \n",
       "4       NaN        NaN              NaN          NaN         NaN   \n",
       "\n",
       "   food_price_tax  other_price  other_price_tax  room_category_id  \\\n",
       "0          26.572       43.800            0.000                 3   \n",
       "1          26.572       43.800            0.000                 3   \n",
       "2          53.071    14897.037         3319.383                 4   \n",
       "3         159.286      262.800            0.000                 5   \n",
       "4             NaN          NaN              NaN                 6   \n",
       "\n",
       "   sales_channel_id  \n",
       "0              10.0  \n",
       "1              10.0  \n",
       "2               4.0  \n",
       "3               3.0  \n",
       "4               4.0  \n",
       "\n",
       "[5 rows x 24 columns]"
      ]
     },
     "execution_count": 2,
     "metadata": {},
     "output_type": "execute_result"
    }
   ],
   "source": [
    "dataset = pd.read_parquet(\"../lumen_dataset/train.parquet\")\n",
    "dataset.head()"
   ]
  },
  {
   "cell_type": "markdown",
   "metadata": {},
   "source": [
    "Check the range of dates in the dataset"
   ]
  },
  {
   "cell_type": "code",
   "execution_count": 3,
   "metadata": {},
   "outputs": [
    {
     "name": "stdout",
     "output_type": "stream",
     "text": [
      "Minimum reservation date: 2007-03-04\n",
      "Maximum reservation date: 2009-12-31\n"
     ]
    }
   ],
   "source": [
    "min_date = dataset['reservation_date'].min()\n",
    "max_date = dataset['reservation_date'].max()\n",
    "\n",
    "print(f\"Minimum reservation date: {min_date}\")\n",
    "print(f\"Maximum reservation date: {max_date}\")"
   ]
  },
  {
   "cell_type": "markdown",
   "metadata": {},
   "source": [
    "We notice that 2008 is the only year where we have all of the data. Therefore we do our analysis in context of that year, while hypothetizing that the data for rest of the years is similar.\n",
    "Specifically we count the number of reservations per room type in that exact year. In this way we can know which room types are more important then others."
   ]
  },
  {
   "cell_type": "code",
   "execution_count": 4,
   "metadata": {},
   "outputs": [
    {
     "name": "stdout",
     "output_type": "stream",
     "text": [
      "   room_category_id  num_reservations\n",
      "0                 1                39\n",
      "1                 2              5752\n",
      "2                 3              3466\n",
      "3                 4               535\n",
      "4                 5              4451\n",
      "5                 6              1579\n",
      "6                 7               167\n",
      "7                11                40\n"
     ]
    }
   ],
   "source": [
    "dataset['reservation_date'] = pd.to_datetime(dataset['reservation_date'])\n",
    "\n",
    "dataset_2008 = dataset[dataset['reservation_date'].dt.year == 2008]\n",
    "\n",
    "reservations_per_room_type_2008 = dataset_2008.groupby('room_category_id').size().reset_index(name='num_reservations')\n",
    "\n",
    "print(reservations_per_room_type_2008)"
   ]
  },
  {
   "cell_type": "markdown",
   "metadata": {},
   "source": [
    "As we are planing on using the num of reservations per room as the room category id, we need to scale them based on the other values in our dataset. So between 0 and 1"
   ]
  },
  {
   "cell_type": "code",
   "execution_count": 5,
   "metadata": {},
   "outputs": [
    {
     "name": "stdout",
     "output_type": "stream",
     "text": [
      "   room_category_id  num_reservations  scaled_room_id\n",
      "0                 1                39           0.007\n",
      "1                 2              5752           1.000\n",
      "2                 3              3466           0.603\n",
      "3                 4               535           0.093\n",
      "4                 5              4451           0.774\n",
      "5                 6              1579           0.275\n",
      "6                 7               167           0.029\n",
      "7                11                40           0.007\n"
     ]
    }
   ],
   "source": [
    "max_reservations_2008 = reservations_per_room_type_2008['num_reservations'].max()\n",
    "\n",
    "reservations_per_room_type_2008['scaled_room_id'] = round(reservations_per_room_type_2008['num_reservations'] / max_reservations_2008,3)\n",
    "\n",
    "print(reservations_per_room_type_2008)"
   ]
  },
  {
   "cell_type": "markdown",
   "metadata": {},
   "source": [
    "As our initial dataset we will be keeping day of the week, day of the year, the number of reservations for that day and for that specific room category id"
   ]
  },
  {
   "cell_type": "code",
   "execution_count": 6,
   "metadata": {},
   "outputs": [],
   "source": [
    "dataset['reservation_date'] = pd.to_datetime(dataset['reservation_date'])\n",
    "\n",
    "dataset['day_of_week'] = dataset['reservation_date'].dt.dayofweek + 1  # +1 to make Monday=1, Sunday=7\n",
    "dataset['day_of_year'] = dataset['reservation_date'].dt.dayofyear\n",
    "\n",
    "new_dataset = dataset.groupby(['day_of_week', 'day_of_year', 'room_category_id']).size().reset_index(name='num_reservations')"
   ]
  },
  {
   "cell_type": "code",
   "execution_count": 7,
   "metadata": {},
   "outputs": [
    {
     "name": "stdout",
     "output_type": "stream",
     "text": [
      "   day_of_week  day_of_year  room_category_id  num_reservations\n",
      "0            1            5                 3                40\n",
      "1            1            5                 5                 4\n",
      "2            1            5                 6                 1\n",
      "3            1           12                 5                 1\n",
      "4            1           12                 6                 4\n"
     ]
    }
   ],
   "source": [
    "print(new_dataset.head())"
   ]
  },
  {
   "cell_type": "markdown",
   "metadata": {},
   "source": [
    "Now let's see how our scaled room ids compare to the original room category ids"
   ]
  },
  {
   "cell_type": "code",
   "execution_count": 8,
   "metadata": {},
   "outputs": [
    {
     "name": "stdout",
     "output_type": "stream",
     "text": [
      "   day_of_week  day_of_year  room_category_id  num_reservations  \\\n",
      "0            1            5                 3                40   \n",
      "1            1            5                 5                 4   \n",
      "2            1            5                 6                 1   \n",
      "3            1           12                 5                 1   \n",
      "4            1           12                 6                 4   \n",
      "\n",
      "   scaled_room_id  \n",
      "0           0.603  \n",
      "1           0.774  \n",
      "2           0.275  \n",
      "3           0.774  \n",
      "4           0.275  \n"
     ]
    }
   ],
   "source": [
    "merged_dataset = pd.merge(new_dataset, reservations_per_room_type_2008[['room_category_id', 'scaled_room_id']], on='room_category_id', how='left')\n",
    "\n",
    "print(merged_dataset.head())"
   ]
  },
  {
   "cell_type": "markdown",
   "metadata": {},
   "source": [
    "We see that we have merged the dataset in a corect way, so we can then remove the room category id and just keep the scaled room id"
   ]
  },
  {
   "cell_type": "code",
   "execution_count": 9,
   "metadata": {},
   "outputs": [
    {
     "name": "stdout",
     "output_type": "stream",
     "text": [
      "   day_of_week  day_of_year  num_reservations  scaled_room_id\n",
      "0            1            5                40           0.603\n",
      "1            1            5                 4           0.774\n",
      "2            1            5                 1           0.275\n",
      "3            1           12                 1           0.774\n",
      "4            1           12                 4           0.275\n"
     ]
    }
   ],
   "source": [
    "dataset_with_normalized_id = merged_dataset.drop(columns=['room_category_id'])\n",
    "\n",
    "print(dataset_with_normalized_id.head())"
   ]
  }
 ],
 "metadata": {
  "kernelspec": {
   "display_name": "lumen",
   "language": "python",
   "name": "python3"
  },
  "language_info": {
   "name": "python",
   "version": "3.11.8"
  }
 },
 "nbformat": 4,
 "nbformat_minor": 2
}
